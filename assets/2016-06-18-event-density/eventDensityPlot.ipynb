{
 "cells": [
  {
   "cell_type": "code",
   "execution_count": 1,
   "metadata": {},
   "outputs": [],
   "source": [
    "bins=[[1, 0, 0, 0], [2, 0, 0, 0], [3, 0, 0, 0], [4, 0, 0, 0], [5, 0, 0, 0], [6, 0, 1, 1], [7, 0, 2, 1], [8, 0, 3, 1], [9, 0, 3, 0], [10, 0, 4, 1], [11, 2, 4, 0], [12, 0, 2, 0], [13, 0, 3, 1], [14, 0, 4, 1], [15, 0, 4, 0], [16, 0, 4, 0], [17, 0, 4, 0], [18, 0, 4, 0], [19, 0, 4, 0], [20, 0, 4, 0], [21, 0, 4, 0], [22, 0, 5, 1], [23, 0, 5, 0], [24, 0, 6, 1], [25, 0, 6, 0], [26, 0, 6, 0], [27, 1, 6, 0], [28, 0, 6, 1], [29, 0, 6, 0], [30, 0, 6, 0], [31, 0, 7, 1], [32, 0, 7, 0], [33, 0, 8, 1], [34, 2, 8, 0], [35, 2, 6, 0], [36, 1, 6, 2], [37, 1, 5, 0], [38, 0, 4, 0], [39, 0, 4, 0], [40, 0, 4, 0], [41, 0, 4, 0], [42, 0, 6, 2], [43, 0, 6, 0], [44, 0, 7, 1], [45, 0, 7, 0], [46, 0, 7, 0], [47, 1, 7, 0], [48, 0, 6, 0], [49, 0, 6, 0], [50, 0, 6, 0], [51, 3, 6, 0], [52, 0, 3, 0], [53, 0, 4, 1], [54, 0, 4, 0], [55, 0, 4, 0], [56, 0, 4, 0], [57, 0, 4, 0], [58, 1, 4, 0], [59, 1, 3, 0], [60, 0, 2, 0], [61, 0, 2, 0], [62, 0, 2, 0], [63, 0, 2, 0], [64, 0, 2, 0], [65, 0, 2, 0], [66, 1, 2, 0], [67, 0, 1, 0], [68, 0, 1, 0], [69, 0, 3, 2], [70, 0, 3, 0], [71, 0, 3, 0], [72, 0, 3, 0], [73, 0, 3, 0], [74, 1, 3, 0], [75, 0, 2, 0], [76, 0, 2, 0], [77, 0, 2, 0], [78, 0, 2, 0], [79, 0, 2, 0], [80, 0, 2, 0], [81, 0, 2, 0], [82, 0, 2, 0], [83, 0, 2, 0], [84, 0, 2, 0], [85, 0, 2, 0], [86, 0, 2, 0], [87, 0, 2, 0], [88, 0, 2, 0], [89, 0, 2, 0], [90, 0, 2, 0], [91, 0, 2, 0], [92, 0, 2, 0], [93, 0, 2, 0], [94, 0, 2, 0], [95, 1, 2, 0], [96, 1, 1, 0], [97, 0, 0, 0], [98, 0, 0, 0], [99, 0, 0, 0], [100, 0, 0, 0]]"
   ]
  },
  {
   "cell_type": "code",
   "execution_count": 2,
   "metadata": {
    "scrolled": true
   },
   "outputs": [
    {
     "name": "stdout",
     "output_type": "stream",
     "text": [
      "Using matplotlib backend: MacOSX\n"
     ]
    }
   ],
   "source": [
    "%matplotlib"
   ]
  },
  {
   "cell_type": "code",
   "execution_count": 3,
   "metadata": {},
   "outputs": [],
   "source": [
    "import matplotlib.pyplot as plt"
   ]
  },
  {
   "cell_type": "code",
   "execution_count": 4,
   "metadata": {},
   "outputs": [],
   "source": [
    "def makebarplot(bins):\n",
    "    time = [b[0] for b in bins]   # extract the x-axis data\n",
    "    fig = plt.figure()            # get the matplotlib plot figure\n",
    "    fig.set_size_inches(8, 1)     # set the size of the plot\n",
    "    ax = fig.add_subplot(1, 1, 1) # add a plot to the figure; Subplot\n",
    "    # is confusing, though.  The magical \"(1, 1, 1)\" here means there\n",
    "    # will be one row, one column, and we are working with plot number\n",
    "    # 1, all of which is the same as just one plot.  There is a little\n",
    "    # more documentation on this at:\n",
    "    # http://matplotlib.org/api/pyplot_api.html#matplotlib.pyplot.subplot\n",
    "    fig.patch.set_visible(False)  # make the background transparent\n",
    "    # turn off the borders (called spines)\n",
    "    ax.spines['top'].set_visible(False)\n",
    "    ax.spines['bottom'].set_visible(False)\n",
    "    ax.spines['right'].set_visible(False)\n",
    "    ax.spines['left'].set_visible(False)\n",
    "    # set all of the ticks to 0 length\n",
    "    ax.tick_params(axis=u'both', which=u'both',length=0)\n",
    "    # hide everything about the x-axis\n",
    "    ax.axes.get_xaxis().set_visible(False)\n",
    "\n",
    "    barwidth = 1                  # remove gaps between bars\n",
    "    color = [\"red\", \"blue\", \"green\"] # set the colors for\n",
    "    for row in range(1, len(color)+1): # make as many rows as colors\n",
    "        # extract the correct column\n",
    "        ongoing = [b[row] for b in bins]\n",
    "        # scale the data to the maximum\n",
    "        ongoing = [c/float(max(ongoing)) for c in ongoing]\n",
    "\n",
    "        # draw a black line at the left end\n",
    "        left = 10\n",
    "        border_width = 20\n",
    "        d = border_width\n",
    "        ax.barh(row, d, barwidth, color=\"black\",\n",
    "                left=left, edgecolor=\"none\",\n",
    "                linewidth=0)\n",
    "        left += d\n",
    "        # fill in the horizontal bar with the right color density\n",
    "        # (alpha)\n",
    "        for d, c in zip(time, ongoing):\n",
    "            ax.barh(row, d, barwidth,\n",
    "                    alpha=0.9*c+.01,\n",
    "                    color=color[row-1],\n",
    "                    left=left,\n",
    "                    edgecolor=\"none\",\n",
    "                    linewidth=0)\n",
    "            left += d\n",
    "\n",
    "        # draw a black line at the right end\n",
    "        d = border_width\n",
    "        ax.barh(row, d, barwidth,\n",
    "                color=\"black\",\n",
    "                left=left, edgecolor=\"none\",\n",
    "                linewidth=0)\n",
    "    # label the rows\n",
    "    plt.yticks([1.5, 2.5, 3.5], ['stopping', 'ongoing', 'starting'], size=10)\n",
    "    # return the plot to __main__\n",
    "    return plt\n"
   ]
  },
  {
   "cell_type": "code",
   "execution_count": 5,
   "metadata": {},
   "outputs": [],
   "source": [
    "plt = makebarplot(bins)"
   ]
  },
  {
   "cell_type": "code",
   "execution_count": null,
   "metadata": {},
   "outputs": [],
   "source": []
  }
 ],
 "metadata": {
  "kernelspec": {
   "display_name": "Python 3",
   "language": "python",
   "name": "python3"
  },
  "language_info": {
   "codemirror_mode": {
    "name": "ipython",
    "version": 3
   },
   "file_extension": ".py",
   "mimetype": "text/x-python",
   "name": "python",
   "nbconvert_exporter": "python",
   "pygments_lexer": "ipython3",
   "version": "3.7.3"
  }
 },
 "nbformat": 4,
 "nbformat_minor": 2
}
